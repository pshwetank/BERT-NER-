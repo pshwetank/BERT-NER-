{
 "cells": [
  {
   "cell_type": "code",
   "execution_count": 48,
   "id": "0505438c",
   "metadata": {},
   "outputs": [],
   "source": [
    "import torch\n",
    "from collections import OrderedDict\n",
    "from transformers import pipeline\n",
    "from transformers import AutoTokenizer, AutoModelForTokenClassification"
   ]
  },
  {
   "cell_type": "code",
   "execution_count": 75,
   "id": "4bffa63d",
   "metadata": {},
   "outputs": [],
   "source": [
    "def bert_parser(entity_lst):\n",
    "    orgs = []\n",
    "    n_entities = len(entity_lst)\n",
    "    org_dict = OrderedDict()\n",
    "    for word_dict in entity_lst:\n",
    "        \n",
    "        cur_word = word_dict['word'].replace(\"#\", \"\")\n",
    "        print(cur_word)\n",
    "        start_pos = word_dict['start']\n",
    "        end_pos = word_dict['end']\n",
    "        entity_type = word_dict['entity']\n",
    "        \n",
    "        print(entity_type)\n",
    "        if entity_type == 'B-ORG':    \n",
    "            org_dict[cur_word] = {'start':start_pos, 'end':end_pos}\n",
    "            print(\"Item added:\", cur_word)\n",
    "        \n",
    "        elif entity_type == 'I-ORG':\n",
    "            \n",
    "            prev_entity = list(org_dict.items())[-1]\n",
    "            prev_word = prev_entity[0]\n",
    "            new_word = prev_word + cur_word\n",
    "            new_endpos = end_pos\n",
    "            \n",
    "            del org_dict[prev_word]\n",
    "            \n",
    "            prev_start = prev_entity[1]['start']\n",
    "            org_dict[new_word] = {'start':prev_start, 'end':new_endpos}\n",
    "\n",
    "            \n",
    "    return org_dict"
   ]
  },
  {
   "cell_type": "code",
   "execution_count": 26,
   "id": "28f05dc4",
   "metadata": {},
   "outputs": [
    {
     "name": "stderr",
     "output_type": "stream",
     "text": [
      "Downloading: 100%|██████████| 59.0/59.0 [00:00<00:00, 72.2kB/s]\n",
      "Downloading: 100%|██████████| 829/829 [00:00<00:00, 1.02MB/s]\n",
      "Downloading: 100%|██████████| 213k/213k [00:00<00:00, 516kB/s] \n",
      "Downloading: 100%|██████████| 2.00/2.00 [00:00<00:00, 2.40kB/s]\n",
      "Downloading: 100%|██████████| 112/112 [00:00<00:00, 136kB/s]\n",
      "Downloading: 100%|██████████| 433M/433M [01:31<00:00, 4.75MB/s] \n"
     ]
    }
   ],
   "source": [
    "tokenizer = AutoTokenizer.from_pretrained(\"dslim/bert-base-NER\")\n",
    "model = AutoModelForTokenClassification.from_pretrained(\"dslim/bert-base-NER\")\n",
    "ner_classifier = pipeline(\"ner\", model=model, tokenizer=tokenizer)"
   ]
  },
  {
   "cell_type": "code",
   "execution_count": 34,
   "id": "436e91e4",
   "metadata": {},
   "outputs": [
    {
     "data": {
      "text/plain": [
       "[{'entity': 'B-ORG',\n",
       "  'score': 0.9925085,\n",
       "  'index': 12,\n",
       "  'word': 'Nov',\n",
       "  'start': 60,\n",
       "  'end': 63},\n",
       " {'entity': 'I-ORG',\n",
       "  'score': 0.99516684,\n",
       "  'index': 13,\n",
       "  'word': '##o',\n",
       "  'start': 63,\n",
       "  'end': 64},\n",
       " {'entity': 'I-ORG',\n",
       "  'score': 0.9968747,\n",
       "  'index': 14,\n",
       "  'word': 'Nord',\n",
       "  'start': 65,\n",
       "  'end': 69},\n",
       " {'entity': 'I-ORG',\n",
       "  'score': 0.9954952,\n",
       "  'index': 15,\n",
       "  'word': '##isk',\n",
       "  'start': 69,\n",
       "  'end': 72},\n",
       " {'entity': 'I-ORG',\n",
       "  'score': 0.993123,\n",
       "  'index': 16,\n",
       "  'word': 'A',\n",
       "  'start': 73,\n",
       "  'end': 74},\n",
       " {'entity': 'I-ORG',\n",
       "  'score': 0.9313874,\n",
       "  'index': 17,\n",
       "  'word': '/',\n",
       "  'start': 74,\n",
       "  'end': 75},\n",
       " {'entity': 'I-ORG',\n",
       "  'score': 0.9950965,\n",
       "  'index': 18,\n",
       "  'word': 'S',\n",
       "  'start': 75,\n",
       "  'end': 76}]"
      ]
     },
     "execution_count": 34,
     "metadata": {},
     "output_type": "execute_result"
    }
   ],
   "source": [
    "ner_classifier(\"Conflict of interest Name is an employee and stockholder of Novo Nordisk A/S.\")"
   ]
  },
  {
   "cell_type": "code",
   "execution_count": 84,
   "id": "bdd08e19",
   "metadata": {},
   "outputs": [],
   "source": [
    "bert_out = ner_classifier(\"I have conflicting interests with Microsoft, Google and Myntra\")"
   ]
  },
  {
   "cell_type": "code",
   "execution_count": 86,
   "id": "b787ae05",
   "metadata": {},
   "outputs": [
    {
     "name": "stdout",
     "output_type": "stream",
     "text": [
      "Microsoft\n",
      "B-ORG\n",
      "Item added: Microsoft\n",
      "Google\n",
      "B-ORG\n",
      "Item added: Google\n",
      "My\n",
      "B-ORG\n",
      "Item added: My\n",
      "nt\n",
      "I-ORG\n",
      "ra\n",
      "I-ORG\n"
     ]
    },
    {
     "data": {
      "text/plain": [
       "OrderedDict([('Microsoft', {'start': 34, 'end': 43}),\n",
       "             ('Google', {'start': 45, 'end': 51}),\n",
       "             ('Myntra', {'start': 56, 'end': 62})])"
      ]
     },
     "execution_count": 86,
     "metadata": {},
     "output_type": "execute_result"
    }
   ],
   "source": [
    "bert_parser(bert_out)"
   ]
  },
  {
   "cell_type": "code",
   "execution_count": 36,
   "id": "26e70657",
   "metadata": {},
   "outputs": [
    {
     "data": {
      "text/plain": [
       "[{'entity': 'B-ORG',\n",
       "  'score': 0.9990582,\n",
       "  'index': 6,\n",
       "  'word': 'Microsoft',\n",
       "  'start': 34,\n",
       "  'end': 43},\n",
       " {'entity': 'B-ORG',\n",
       "  'score': 0.9991136,\n",
       "  'index': 8,\n",
       "  'word': 'Google',\n",
       "  'start': 45,\n",
       "  'end': 51},\n",
       " {'entity': 'B-ORG',\n",
       "  'score': 0.9992143,\n",
       "  'index': 10,\n",
       "  'word': 'Nova',\n",
       "  'start': 56,\n",
       "  'end': 60},\n",
       " {'entity': 'I-ORG',\n",
       "  'score': 0.99821794,\n",
       "  'index': 11,\n",
       "  'word': '##rt',\n",
       "  'start': 60,\n",
       "  'end': 62},\n",
       " {'entity': 'I-ORG',\n",
       "  'score': 0.9986222,\n",
       "  'index': 12,\n",
       "  'word': '##is',\n",
       "  'start': 62,\n",
       "  'end': 64},\n",
       " {'entity': 'I-ORG',\n",
       "  'score': 0.99932516,\n",
       "  'index': 13,\n",
       "  'word': 'Ph',\n",
       "  'start': 65,\n",
       "  'end': 67},\n",
       " {'entity': 'I-ORG',\n",
       "  'score': 0.99864125,\n",
       "  'index': 14,\n",
       "  'word': '##arma',\n",
       "  'start': 67,\n",
       "  'end': 71},\n",
       " {'entity': 'I-ORG',\n",
       "  'score': 0.9989389,\n",
       "  'index': 15,\n",
       "  'word': '##ce',\n",
       "  'start': 71,\n",
       "  'end': 73},\n",
       " {'entity': 'I-ORG',\n",
       "  'score': 0.99923664,\n",
       "  'index': 16,\n",
       "  'word': '##utical',\n",
       "  'start': 73,\n",
       "  'end': 79},\n",
       " {'entity': 'I-ORG',\n",
       "  'score': 0.91506857,\n",
       "  'index': 17,\n",
       "  'word': '##s',\n",
       "  'start': 79,\n",
       "  'end': 80}]"
      ]
     },
     "execution_count": 36,
     "metadata": {},
     "output_type": "execute_result"
    }
   ],
   "source": [
    "ner_classifier(\"I have conflicting interests with Microsoft, Google and Novartis Pharmaceuticals\")"
   ]
  },
  {
   "cell_type": "code",
   "execution_count": 39,
   "id": "b0638890",
   "metadata": {},
   "outputs": [
    {
     "data": {
      "text/plain": [
       "[{'entity': 'B-ORG',\n",
       "  'score': 0.99914557,\n",
       "  'index': 1,\n",
       "  'word': 'Nova',\n",
       "  'start': 0,\n",
       "  'end': 4},\n",
       " {'entity': 'I-ORG',\n",
       "  'score': 0.9940522,\n",
       "  'index': 2,\n",
       "  'word': '##rt',\n",
       "  'start': 4,\n",
       "  'end': 6},\n",
       " {'entity': 'I-ORG',\n",
       "  'score': 0.99879855,\n",
       "  'index': 3,\n",
       "  'word': '##is',\n",
       "  'start': 6,\n",
       "  'end': 8},\n",
       " {'entity': 'I-ORG',\n",
       "  'score': 0.9992811,\n",
       "  'index': 4,\n",
       "  'word': 'Ph',\n",
       "  'start': 9,\n",
       "  'end': 11},\n",
       " {'entity': 'I-ORG',\n",
       "  'score': 0.9982556,\n",
       "  'index': 5,\n",
       "  'word': '##arma',\n",
       "  'start': 11,\n",
       "  'end': 15}]"
      ]
     },
     "execution_count": 39,
     "metadata": {},
     "output_type": "execute_result"
    }
   ],
   "source": [
    "ner_classifier(\"Novartis Pharma\")"
   ]
  },
  {
   "cell_type": "code",
   "execution_count": 45,
   "id": "84a040c1",
   "metadata": {},
   "outputs": [],
   "source": [
    "a = ''\n",
    "s = 'w'\n",
    "a += 'd' if s is 'r' else ''"
   ]
  },
  {
   "cell_type": "code",
   "execution_count": 81,
   "id": "e2d8ac30",
   "metadata": {},
   "outputs": [],
   "source": [
    "bert_out = ner_classifier(\"I have conflicting interests with Bloomberg, LayerIV and Myntra\")"
   ]
  },
  {
   "cell_type": "code",
   "execution_count": 83,
   "id": "96c0f1c7",
   "metadata": {},
   "outputs": [
    {
     "data": {
      "text/plain": [
       "[{'entity': 'B-ORG',\n",
       "  'score': 0.994367,\n",
       "  'index': 6,\n",
       "  'word': 'Bloomberg',\n",
       "  'start': 34,\n",
       "  'end': 43},\n",
       " {'entity': 'B-ORG',\n",
       "  'score': 0.99899155,\n",
       "  'index': 8,\n",
       "  'word': 'Lay',\n",
       "  'start': 45,\n",
       "  'end': 48},\n",
       " {'entity': 'B-ORG',\n",
       "  'score': 0.9952924,\n",
       "  'index': 9,\n",
       "  'word': '##er',\n",
       "  'start': 48,\n",
       "  'end': 50},\n",
       " {'entity': 'I-ORG',\n",
       "  'score': 0.99627745,\n",
       "  'index': 10,\n",
       "  'word': '##I',\n",
       "  'start': 50,\n",
       "  'end': 51},\n",
       " {'entity': 'I-ORG',\n",
       "  'score': 0.9964791,\n",
       "  'index': 11,\n",
       "  'word': '##V',\n",
       "  'start': 51,\n",
       "  'end': 52},\n",
       " {'entity': 'B-ORG',\n",
       "  'score': 0.9985757,\n",
       "  'index': 13,\n",
       "  'word': 'My',\n",
       "  'start': 57,\n",
       "  'end': 59},\n",
       " {'entity': 'I-ORG',\n",
       "  'score': 0.9959242,\n",
       "  'index': 14,\n",
       "  'word': '##nt',\n",
       "  'start': 59,\n",
       "  'end': 61},\n",
       " {'entity': 'I-ORG',\n",
       "  'score': 0.97845435,\n",
       "  'index': 15,\n",
       "  'word': '##ra',\n",
       "  'start': 61,\n",
       "  'end': 63}]"
      ]
     },
     "execution_count": 83,
     "metadata": {},
     "output_type": "execute_result"
    }
   ],
   "source": [
    "bert_out"
   ]
  },
  {
   "cell_type": "code",
   "execution_count": 82,
   "id": "ead6ef61",
   "metadata": {},
   "outputs": [
    {
     "name": "stdout",
     "output_type": "stream",
     "text": [
      "Bloomberg\n",
      "B-ORG\n",
      "Item added: Bloomberg\n",
      "Lay\n",
      "B-ORG\n",
      "Item added: Lay\n",
      "er\n",
      "B-ORG\n",
      "Item added: er\n",
      "I\n",
      "I-ORG\n",
      "V\n",
      "I-ORG\n",
      "My\n",
      "B-ORG\n",
      "Item added: My\n",
      "nt\n",
      "I-ORG\n",
      "ra\n",
      "I-ORG\n"
     ]
    },
    {
     "data": {
      "text/plain": [
       "OrderedDict([('Bloomberg', {'start': 34, 'end': 43}),\n",
       "             ('Lay', {'start': 45, 'end': 48}),\n",
       "             ('erIV', {'start': 48, 'end': 52}),\n",
       "             ('Myntra', {'start': 57, 'end': 63})])"
      ]
     },
     "execution_count": 82,
     "metadata": {},
     "output_type": "execute_result"
    }
   ],
   "source": [
    "bert_parser(bert_out)"
   ]
  },
  {
   "cell_type": "code",
   "execution_count": 49,
   "id": "5977d9a3",
   "metadata": {},
   "outputs": [],
   "source": [
    "r = OrderedDict()"
   ]
  },
  {
   "cell_type": "code",
   "execution_count": 50,
   "id": "6b7ae145",
   "metadata": {},
   "outputs": [],
   "source": [
    "r[1] = 0\n",
    "r[2] = 1"
   ]
  },
  {
   "cell_type": "code",
   "execution_count": 51,
   "id": "52bab163",
   "metadata": {},
   "outputs": [
    {
     "data": {
      "text/plain": [
       "OrderedDict([(1, 0), (2, 1)])"
      ]
     },
     "execution_count": 51,
     "metadata": {},
     "output_type": "execute_result"
    }
   ],
   "source": [
    "r"
   ]
  },
  {
   "cell_type": "code",
   "execution_count": 56,
   "id": "af2ea250",
   "metadata": {},
   "outputs": [],
   "source": [
    "k = list(r.items())[-1]"
   ]
  },
  {
   "cell_type": "code",
   "execution_count": 59,
   "id": "683ae31e",
   "metadata": {},
   "outputs": [
    {
     "data": {
      "text/plain": [
       "2"
      ]
     },
     "execution_count": 59,
     "metadata": {},
     "output_type": "execute_result"
    }
   ],
   "source": [
    "k[0]"
   ]
  },
  {
   "cell_type": "code",
   "execution_count": 61,
   "id": "7f07ddd9",
   "metadata": {},
   "outputs": [],
   "source": [
    "r[2] = {'a':1, 'b':3}"
   ]
  },
  {
   "cell_type": "code",
   "execution_count": 62,
   "id": "1b19bd52",
   "metadata": {},
   "outputs": [
    {
     "data": {
      "text/plain": [
       "OrderedDict([(1, 0), (2, {'a': 1, 'b': 3})])"
      ]
     },
     "execution_count": 62,
     "metadata": {},
     "output_type": "execute_result"
    }
   ],
   "source": [
    "r"
   ]
  },
  {
   "cell_type": "code",
   "execution_count": 68,
   "id": "a79b3f6f",
   "metadata": {},
   "outputs": [],
   "source": [
    "bert_out = ner_classifier(\"Conflict of interest Name is an employee and stockholder of Novo Nordisk A/S.\")"
   ]
  },
  {
   "cell_type": "code",
   "execution_count": 76,
   "id": "83e3273e",
   "metadata": {},
   "outputs": [
    {
     "name": "stdout",
     "output_type": "stream",
     "text": [
      "Nov\n",
      "B-ORG\n",
      "Item added: Nov\n",
      "o\n",
      "I-ORG\n",
      "Nord\n",
      "I-ORG\n",
      "isk\n",
      "I-ORG\n",
      "A\n",
      "I-ORG\n",
      "/\n",
      "I-ORG\n",
      "S\n",
      "I-ORG\n"
     ]
    },
    {
     "data": {
      "text/plain": [
       "OrderedDict([('NovoNordiskA/S', {'start': 60, 'end': 76})])"
      ]
     },
     "execution_count": 76,
     "metadata": {},
     "output_type": "execute_result"
    }
   ],
   "source": [
    "bert_parser(bert_out)"
   ]
  },
  {
   "cell_type": "code",
   "execution_count": 77,
   "id": "bfca848b",
   "metadata": {},
   "outputs": [],
   "source": [
    "query = \"Conflict of interest Name is an employee and stockholder of Novo Nordisk A/S.\""
   ]
  },
  {
   "cell_type": "code",
   "execution_count": 80,
   "id": "c3ec7295",
   "metadata": {},
   "outputs": [
    {
     "data": {
      "text/plain": [
       "' '"
      ]
     },
     "execution_count": 80,
     "metadata": {},
     "output_type": "execute_result"
    }
   ],
   "source": [
    "query[59]"
   ]
  },
  {
   "cell_type": "code",
   "execution_count": null,
   "id": "41e4b6e1",
   "metadata": {},
   "outputs": [],
   "source": []
  }
 ],
 "metadata": {
  "kernelspec": {
   "display_name": "Python 3.7.10 64-bit ('experiments': conda)",
   "language": "python",
   "name": "python3710jvsc74a57bd05a852903ad70e86c3b9de77e947d89d0a30806c7540c78909242232f2e97c78c"
  },
  "language_info": {
   "codemirror_mode": {
    "name": "ipython",
    "version": 3
   },
   "file_extension": ".py",
   "mimetype": "text/x-python",
   "name": "python",
   "nbconvert_exporter": "python",
   "pygments_lexer": "ipython3",
   "version": "3.7.10"
  }
 },
 "nbformat": 4,
 "nbformat_minor": 5
}
